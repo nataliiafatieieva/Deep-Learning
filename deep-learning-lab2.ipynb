{
 "cells": [
  {
   "cell_type": "code",
   "execution_count": 1,
   "id": "e8c945d4",
   "metadata": {
    "_cell_guid": "b1076dfc-b9ad-4769-8c92-a6c4dae69d19",
    "_uuid": "8f2839f25d086af736a60e9eeb907d3b93b6e0e5",
    "execution": {
     "iopub.execute_input": "2024-04-09T21:34:01.035579Z",
     "iopub.status.busy": "2024-04-09T21:34:01.035059Z",
     "iopub.status.idle": "2024-04-09T21:34:02.208296Z",
     "shell.execute_reply": "2024-04-09T21:34:02.206924Z"
    },
    "papermill": {
     "duration": 1.183917,
     "end_time": "2024-04-09T21:34:02.212206",
     "exception": false,
     "start_time": "2024-04-09T21:34:01.028289",
     "status": "completed"
    },
    "tags": []
   },
   "outputs": [],
   "source": [
    "# This Python 3 environment comes with many helpful analytics libraries installed\n",
    "# It is defined by the kaggle/python Docker image: https://github.com/kaggle/docker-python\n",
    "# For example, here's several helpful packages to load\n",
    "\n",
    "import numpy as np # linear algebra\n",
    "import pandas as pd # data processing, CSV file I/O (e.g. pd.read_csv)\n",
    "\n",
    "# Input data files are available in the read-only \"../input/\" directory\n",
    "# For example, running this (by clicking run or pressing Shift+Enter) will list all files under the input directory\n",
    "\n",
    "import os\n",
    "for dirname, _, filenames in os.walk('/kaggle/input'):\n",
    "    for filename in filenames:\n",
    "        print(os.path.join(dirname, filename))\n",
    "\n",
    "# You can write up to 20GB to the current directory (/kaggle/working/) that gets preserved as output when you create a version using \"Save & Run All\" \n",
    "# You can also write temporary files to /kaggle/temp/, but they won't be saved outside of the current session"
   ]
  },
  {
   "cell_type": "code",
   "execution_count": 2,
   "id": "26b1b9d6",
   "metadata": {
    "execution": {
     "iopub.execute_input": "2024-04-09T21:34:02.226519Z",
     "iopub.status.busy": "2024-04-09T21:34:02.225304Z",
     "iopub.status.idle": "2024-04-09T21:34:02.230965Z",
     "shell.execute_reply": "2024-04-09T21:34:02.229965Z"
    },
    "papermill": {
     "duration": 0.015938,
     "end_time": "2024-04-09T21:34:02.234018",
     "exception": false,
     "start_time": "2024-04-09T21:34:02.218080",
     "status": "completed"
    },
    "tags": []
   },
   "outputs": [],
   "source": [
    "import numpy as np\n",
    "\n",
    "import math\n",
    "import matplotlib.pyplot as plt"
   ]
  },
  {
   "cell_type": "markdown",
   "id": "07dc5d1f",
   "metadata": {
    "papermill": {
     "duration": 0.004443,
     "end_time": "2024-04-09T21:34:02.244115",
     "exception": false,
     "start_time": "2024-04-09T21:34:02.239672",
     "status": "completed"
    },
    "tags": []
   },
   "source": [
    "Для  градієнта нам потрібно розраховувати часткові похідні багатовимірної функції . Щоразу перераховувати,доволі енергозатратна затія. Чому  б під час розрахунку функції не \"підготуватися\" до пошуку похідних? Можна піти наступним шляхом: під час виконання певних разрахунків результат буде \"пам'ятати\" звідки він взявся,таким чином за топологічним сортуванням можна буде відтворити прохід графа,і рахувати похідні від \"хвоста\" до початку."
   ]
  },
  {
   "cell_type": "code",
   "execution_count": 3,
   "id": "4edf5e0d",
   "metadata": {
    "execution": {
     "iopub.execute_input": "2024-04-09T21:34:02.254019Z",
     "iopub.status.busy": "2024-04-09T21:34:02.253549Z",
     "iopub.status.idle": "2024-04-09T21:34:02.279830Z",
     "shell.execute_reply": "2024-04-09T21:34:02.278725Z"
    },
    "papermill": {
     "duration": 0.035014,
     "end_time": "2024-04-09T21:34:02.283197",
     "exception": false,
     "start_time": "2024-04-09T21:34:02.248183",
     "status": "completed"
    },
    "tags": []
   },
   "outputs": [],
   "source": [
    "class Parameter:#цей клас нам потрібен для запам'ятовування крім числа та назви \"сусідів у графі\"\n",
    "    def __init__(self, value: float, name: str, _parents=()) -> None:#\n",
    "        self._value = value#кладемо числове значення\n",
    "        self._name = name#кладемо ім'я\n",
    "        self._parent=set(_parents)# зберігаємо попередників\n",
    "        self._grad = 0.0# градіент спочатку нульовий\n",
    "        self._backward = lambda: None#\n",
    "\n",
    "    def __repr__(self) -> str:#для гарного print\n",
    "        return f\"Parameter {self._name} = {self._value}; dL/d[{self._name}] = {self._grad}\"\n",
    "\n",
    "    def __mul__(self, other) : #множення для нашого класу\n",
    "        result = Parameter(\n",
    "            self._value * other._value,#перемножимо числові значення\n",
    "            f'{self._name} * {other._name}',#вивели на екран\n",
    "            _parents=(self, other)#запам'ятали попередників\n",
    "        )\n",
    "\n",
    "        def _backward():# зворотній хід для множення\n",
    "            self._grad += other._value * result._grad #dL / dself\n",
    "            other._grad += self._value * result._grad # dL / dother\n",
    "\n",
    "        result._backward = _backward\n",
    "\n",
    "        return result\n",
    "\n",
    "    def __add__(self, other):#додавання для нашого класу\n",
    "        result = Parameter(\n",
    "            self._value + other._value,#додаємо числові значення\n",
    "            f'[{self._name} + {other._name}]',#вивели на екран\n",
    "            _parents=(self, other)#запам'ятали попередників\n",
    "        )\n",
    "\n",
    "        def _backward():# зворотній хід для додавання\n",
    "            self._grad += 1.0 * result._grad  #dL / dself\n",
    "            other._grad += 1.0 * result._grad # dL / dother\n",
    "\n",
    "        result._backward = _backward\n",
    "\n",
    "        return result\n",
    "\n",
    "    def sigmoid(self):\n",
    "        # f(x) = 1 / (1 + exp(self._value))\n",
    "        # f'(x) = f(x) * (1 - f(x))\n",
    "\n",
    "        val = 1.0 / (1.0 + math.exp(-self._value))\n",
    "\n",
    "        result = Parameter(\n",
    "            val,\n",
    "            f\"σ({self._name})\"\n",
    "        )\n",
    "\n",
    "        def _backward():\n",
    "            self._grad = result._grad * val * (1 - val)\n",
    "\n",
    "        result._backward = _backward\n",
    "\n",
    "        return result\n",
    "#     def ACT1TASK2(self):\n",
    "#         # LAB 2 TASK 2: YOUR CODE GOES HERE (feel free to  rename)\n",
    "    def backward(self):\n",
    "        # LAB 2 TASK 1: YOUR CODE GOES HERE\n",
    "        sorted=[]#список відсортованих вершин(масив ,а не множина,бо нас цікавить порядок)\n",
    "        already_was=set()#множині не важливий порядок,а наявність вершин які вже задіяні\n",
    "        \n",
    "        def order(point):#функція організації наших вершин\n",
    "            if point not in already_was:#якщо вершина не була задіяна\n",
    "                already_was.add(point)#додаємо її до множини використаних\n",
    "                for pair in point._parent:#для кожної пари \"батьків\"\n",
    "                    order(pair)#відшукуємо їх \"батьків\"\n",
    "                sorted.append(point)#додаємо до відсортованих\n",
    "        order(self)#використовуємо функцію впорядкування до вершини\n",
    "        \n",
    "        self._grad = 1.0#в кінець кладемо одиницю\n",
    "        for point in reversed(sorted):#розвертаємось від \"хвоста до голови\"\n",
    "            point._backward()#до кожної вершини використвуємо зворотній хід\n",
    "\n",
    "\n",
    "#     def ACT2TASK2(self):\n",
    "#         # LAB 2 TASK 2: YOUR CODE GOES HERE (feel free to  rename)\n",
    "\n",
    "    def silu(self):#функція активації сілу\n",
    "        value = self._value * (1.0 / (1.0 + math.exp(-self._value)))#рахуємо значення\n",
    "        result = Parameter(#створюємо змінну нашого класу \n",
    "            value,#кладемо значення\n",
    "            f\"silu({self._name})\",\n",
    "            _parents=(self,)#з батьків та сама змінна\n",
    "        )\n",
    "\n",
    "        def _backward():# градієнт що був домножуємо на похідну сілу\n",
    "            self._grad += result._grad * ((1.0 / (1.0 + math.exp(-self._value))) * (1 + self._value * (1 - (1.0 / (1.0 + math.exp(-self._value))))))\n",
    "\n",
    "        result._backward = _backward#присвоїли отримане результату\n",
    "\n",
    "        return result#повернули результат\n",
    "    #####################\n",
    "    def elu(self, alpha=1.0):#функція активації сілу\n",
    "        value = np.where(self._value > 0, self._value, alpha * (np.exp(self._value) - 1))#рахуємо значення\n",
    "        result = Parameter(#створюємо змінну нашого класу \n",
    "            value,#кладемо значення\n",
    "            f\"elu({self._name})\",\n",
    "            _parents=(self,)#з батьків та сама змінна\n",
    "        )\n",
    "\n",
    "        def _backward():# градієнт що був домножуємо на похідну сілу\n",
    "            self._grad += result._grad * (np.where(self._value > 0, 1, alpha * np.exp(self._value)))\n",
    "\n",
    "        result._backward = _backward#присвоїли отримане результату\n",
    "\n",
    "        return result#повернули результат\n",
    "    \n",
    "# def sgd(...) -> ...:\n",
    "#     # LAB 2 TASK 3: YOUR CODE GOES HERE\n",
    "def gd(learning_rate: float, *parameters: Parameter) -> None:\n",
    "    for parameter in parameters:\n",
    "        parameter._value -= learning_rate * parameter._grad\n",
    "        parameter._grad = 0"
   ]
  },
  {
   "cell_type": "code",
   "execution_count": 4,
   "id": "47996b3d",
   "metadata": {
    "execution": {
     "iopub.execute_input": "2024-04-09T21:34:02.296754Z",
     "iopub.status.busy": "2024-04-09T21:34:02.295572Z",
     "iopub.status.idle": "2024-04-09T21:34:02.305478Z",
     "shell.execute_reply": "2024-04-09T21:34:02.303487Z"
    },
    "papermill": {
     "duration": 0.019554,
     "end_time": "2024-04-09T21:34:02.308275",
     "exception": false,
     "start_time": "2024-04-09T21:34:02.288721",
     "status": "completed"
    },
    "tags": []
   },
   "outputs": [
    {
     "name": "stdout",
     "output_type": "stream",
     "text": [
      "Parameter [a * b + c] * d = 55.0; dL/d[[a * b + c] * d] = 1.0\n",
      "Parameter [a * b + c] = 11.0; dL/d[[a * b + c]] = 5.0\n",
      "Parameter a * b = 6.0; dL/d[a * b] = 5.0\n",
      "Parameter d = 5.0; dL/d[d] = 11.0\n",
      "Parameter c = 5.0; dL/d[c] = 5.0\n",
      "Parameter b = 2.0; dL/d[b] = 15.0\n",
      "Parameter a = 3.0; dL/d[a] = 10.0\n"
     ]
    }
   ],
   "source": [
    "a = Parameter(3.0, 'a')\n",
    "b = Parameter(2.0, 'b')\n",
    "c = Parameter(5.0, 'c')\n",
    "d = Parameter(5.0, 'd')\n",
    "u = a * b\n",
    "v = u + c\n",
    "L = v * d\n",
    "L.backward()\n",
    "print(L)\n",
    "print(v)\n",
    "print(u)\n",
    "print(d)\n",
    "print(c)\n",
    "print(b)\n",
    "print(a)"
   ]
  },
  {
   "cell_type": "markdown",
   "id": "47e1d4b6",
   "metadata": {
    "papermill": {
     "duration": 0.003713,
     "end_time": "2024-04-09T21:34:02.316508",
     "exception": false,
     "start_time": "2024-04-09T21:34:02.312795",
     "status": "completed"
    },
    "tags": []
   },
   "source": [
    "на прикладі з пари перевірено. Працює вірно"
   ]
  },
  {
   "cell_type": "code",
   "execution_count": 5,
   "id": "34e2fdf9",
   "metadata": {
    "execution": {
     "iopub.execute_input": "2024-04-09T21:34:02.327743Z",
     "iopub.status.busy": "2024-04-09T21:34:02.327244Z",
     "iopub.status.idle": "2024-04-09T21:34:02.338757Z",
     "shell.execute_reply": "2024-04-09T21:34:02.337385Z"
    },
    "papermill": {
     "duration": 0.021046,
     "end_time": "2024-04-09T21:34:02.341609",
     "exception": false,
     "start_time": "2024-04-09T21:34:02.320563",
     "status": "completed"
    },
    "tags": []
   },
   "outputs": [
    {
     "name": "stdout",
     "output_type": "stream",
     "text": [
      "loss after 0 epochs :0.00012610538950865008\n",
      "loss after 1 epochs :0.00012610538950865008\n",
      "loss after 2 epochs :5.209908345990227e-06\n",
      "loss after 3 epochs :4.355012617147169e-05\n",
      "loss after 4 epochs :0.00023566931295804734\n",
      "loss after 5 epochs :0.0005747995370237178\n",
      "loss after 6 epochs :0.0010543518397158694\n",
      "loss after 7 epochs :0.001667917663340409\n",
      "loss after 8 epochs :0.0024092675865644195\n",
      "loss after 9 epochs :0.00327234989206483\n",
      "Parameter w = 0.447928485542994; dL/d[w] = 0.5575937337166031\n",
      "Parameter b = 0.034910606928742496; dL/d[b] = 0.6969921671457538\n",
      "Parameter x = 0.8; dL/d[x] = 3.416042721933838\n",
      "Parameter silu([w * x + b]) = 0.23479809099209545; dL/d[silu([w * x + b])] = 0.0\n"
     ]
    }
   ],
   "source": [
    "w = Parameter(0.5, 'w') #ваги котрі підбираємо\n",
    "b = Parameter(0.1, 'b') # параметр б для підбору\n",
    "x = Parameter(0.8, 'x')# вхідні дані\n",
    "learning_rate = 0.01#крок навчання\n",
    "n_epochs = 10#кількість епох(разів навчання)\n",
    "goal = 0.3#ціль отримати такий результат\n",
    "for n in range(n_epochs):\n",
    "    y = (w * x + b).silu() #\n",
    "    gd(learning_rate, w, b)\n",
    "    loss = (y._value - goal) ** 2\n",
    "    y.backward()\n",
    "    print(f\"loss after {n} epochs :{loss}\")\n",
    "print(w)#підібрані ваги\n",
    "print(b)#підібраний б\n",
    "print(x)#незмінний х\n",
    "print((w * x + b).silu())#отримане значення"
   ]
  }
 ],
 "metadata": {
  "kaggle": {
   "accelerator": "none",
   "dataSources": [],
   "dockerImageVersionId": 30684,
   "isGpuEnabled": false,
   "isInternetEnabled": false,
   "language": "python",
   "sourceType": "notebook"
  },
  "kernelspec": {
   "display_name": "Python 3",
   "language": "python",
   "name": "python3"
  },
  "language_info": {
   "codemirror_mode": {
    "name": "ipython",
    "version": 3
   },
   "file_extension": ".py",
   "mimetype": "text/x-python",
   "name": "python",
   "nbconvert_exporter": "python",
   "pygments_lexer": "ipython3",
   "version": "3.10.13"
  },
  "papermill": {
   "default_parameters": {},
   "duration": 5.228668,
   "end_time": "2024-04-09T21:34:02.868320",
   "environment_variables": {},
   "exception": null,
   "input_path": "__notebook__.ipynb",
   "output_path": "__notebook__.ipynb",
   "parameters": {},
   "start_time": "2024-04-09T21:33:57.639652",
   "version": "2.5.0"
  }
 },
 "nbformat": 4,
 "nbformat_minor": 5
}
